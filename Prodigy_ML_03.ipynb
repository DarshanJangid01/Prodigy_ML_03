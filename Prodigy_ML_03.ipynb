{
 "cells": [
  {
   "cell_type": "code",
   "execution_count": null,
   "id": "b973284b-630a-494b-aa43-6fe97755ba9b",
   "metadata": {},
   "outputs": [],
   "source": [
    "import os\n",
    "import numpy as np\n",
    "import matplotlib.pyplot as plt\n",
    "from sklearn.svm import SVC\n",
    "from sklearn.metrics import classification_report, accuracy_score\n",
    "from sklearn.model_selection import train_test_split\n",
    "from sklearn.decomposition import PCA\n",
    "from tensorflow.keras.applications.vgg16 import VGG16, preprocess_input\n",
    "from tensorflow.keras.preprocessing.image import load_img, img_to_array\n"
   ]
  },
  {
   "cell_type": "code",
   "execution_count": null,
   "id": "2ef51b7b-62ce-4082-b66b-5d14182f7b8b",
   "metadata": {},
   "outputs": [],
   "source": [
    "\n",
    "# Load VGG16 model without top layers\n",
    "vgg_model = VGG16(weights='imagenet', include_top=False, input_shape=(224, 224, 3))\n",
    "\n",
    "# Ask for training folder path\n",
    "data_dir = input(\"Enter path to training images folder: \")\n",
    "\n",
    "# Load and preprocess images\n",
    "def load_images(data_dir, image_size=(224, 224)):\n",
    "    X = []\n",
    "    y = []\n",
    "    for file in os.listdir(data_dir):\n",
    "        if file.lower().endswith(('.jpg', '.jpeg', '.png')):\n",
    "            label = 0 if 'cat' in file.lower() else 1  # Assumes filenames contain 'cat' or 'dog'\n",
    "            img_path = os.path.join(data_dir, file)\n",
    "            try:\n",
    "                img = load_img(img_path, target_size=image_size)\n",
    "                img_array = img_to_array(img)\n",
    "                img_array = preprocess_input(img_array)\n",
    "                X.append(img_array)\n",
    "                y.append(label)\n",
    "            except Exception as e:\n",
    "                print(f\"Error loading {file}: {e}\")\n",
    "    return np.array(X), np.array(y)\n",
    "\n"
   ]
  },
  {
   "cell_type": "code",
   "execution_count": null,
   "id": "ca864a9a-ca34-4d5c-9eea-31f71b8bb788",
   "metadata": {
    "scrolled": true
   },
   "outputs": [],
   "source": [
    "# Load images\n",
    "X_images, y_labels = load_images(data_dir)\n",
    "\n",
    "# Extract features using VGG16\n",
    "features = []\n",
    "for img_array in X_images:\n",
    "    img_array = np.expand_dims(img_array, axis=0)\n",
    "    feature = vgg_model.predict(img_array)\n",
    "    features.append(feature.flatten())\n",
    "\n",
    "X = np.array(features)\n",
    "y = y_labels\n",
    "\n",
    "# Train-test split\n",
    "X_train, X_test, y_train, y_test = train_test_split(X, y, test_size=0.2, random_state=42)\n",
    "\n",
    "# Train SVM classifier\n",
    "svm_model = SVC(kernel='linear', probability=True)\n",
    "svm_model.fit(X_train, y_train)\n",
    "\n"
   ]
  },
  {
   "cell_type": "code",
   "execution_count": null,
   "id": "2d244d95-5861-4e61-9a28-9567dc0ed3e6",
   "metadata": {},
   "outputs": [],
   "source": [
    "# Evaluate model\n",
    "y_pred = svm_model.predict(X_test)\n",
    "print(\"Accuracy:\", accuracy_score(y_test, y_pred))\n",
    "print(\"Classification Report:\\n\", classification_report(y_test, y_pred))\n",
    "\n",
    "# PCA Visualization\n",
    "pca = PCA(n_components=2)\n",
    "X_pca = pca.fit_transform(X)\n",
    "plt.figure(figsize=(8, 6))\n",
    "plt.scatter(X_pca[:, 0], X_pca[:, 1], c=y, cmap='coolwarm', edgecolors='k')\n",
    "plt.title(\"PCA of VGG16 Features\")\n",
    "plt.xlabel(\"Principal Component 1\")\n",
    "plt.ylabel(\"Principal Component 2\")\n",
    "plt.grid(True)\n",
    "plt.show()\n"
   ]
  },
  {
   "cell_type": "code",
   "execution_count": null,
   "id": "3bced48e-80f6-40a0-b91b-7005d2a300b1",
   "metadata": {},
   "outputs": [],
   "source": [
    "\n",
    "# Predict a single image manually\n",
    "def predict_single_image(image_path, model, feature_extractor):\n",
    "    try:\n",
    "        img = load_img(image_path, target_size=(224, 224))\n",
    "        img_array = img_to_array(img)\n",
    "        img_array = preprocess_input(img_array)\n",
    "        img_array = np.expand_dims(img_array, axis=0)\n",
    "\n",
    "        feature = feature_extractor.predict(img_array).flatten().reshape(1, -1)\n",
    "        prediction = model.predict(feature)[0]\n",
    "        confidence = model.predict_proba(feature)[0][prediction]\n",
    "\n",
    "        label = 'Cat' if prediction == 0 else 'Dog'\n",
    "        print(f\"Prediction: {label} ({confidence:.2f} confidence)\")\n",
    "    except Exception as e:\n",
    "        print(f\"Error processing image: {e}\")"
   ]
  }
 ],
 "metadata": {
  "kernelspec": {
   "display_name": "Python (tf_env)",
   "language": "python",
   "name": "tf_env"
  },
  "language_info": {
   "codemirror_mode": {
    "name": "ipython",
    "version": 3
   },
   "file_extension": ".py",
   "mimetype": "text/x-python",
   "name": "python",
   "nbconvert_exporter": "python",
   "pygments_lexer": "ipython3",
   "version": "3.12.11"
  }
 },
 "nbformat": 4,
 "nbformat_minor": 5
}
